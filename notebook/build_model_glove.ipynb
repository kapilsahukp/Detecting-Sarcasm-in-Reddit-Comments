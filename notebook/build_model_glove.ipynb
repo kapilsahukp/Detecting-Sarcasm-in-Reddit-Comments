{
 "cells": [
  {
   "cell_type": "code",
   "execution_count": 1,
   "metadata": {},
   "outputs": [
    {
     "name": "stdout",
     "output_type": "stream",
     "text": [
      "Requirement already satisfied: zeugma in c:\\users\\kapil\\anaconda3\\lib\\site-packages (0.49)\n",
      "Requirement already satisfied: pandas>=0.20.3 in c:\\users\\kapil\\anaconda3\\lib\\site-packages (from zeugma) (1.3.4)\n",
      "Requirement already satisfied: scikit-learn>=0.19.1 in c:\\users\\kapil\\anaconda3\\lib\\site-packages (from zeugma) (0.24.2)\n",
      "Requirement already satisfied: gensim>=3.5.0 in c:\\users\\kapil\\anaconda3\\lib\\site-packages (from zeugma) (4.1.2)\n",
      "Requirement already satisfied: keras>=2.1.3 in c:\\users\\kapil\\anaconda3\\lib\\site-packages (from zeugma) (2.7.0)\n",
      "Requirement already satisfied: numpy>=1.13.3 in c:\\users\\kapil\\anaconda3\\lib\\site-packages (from zeugma) (1.20.3)\n",
      "Requirement already satisfied: tensorflow>=1.5.0 in c:\\users\\kapil\\anaconda3\\lib\\site-packages (from zeugma) (2.7.0)\n",
      "Requirement already satisfied: Cython>=0.27.3 in c:\\users\\kapil\\anaconda3\\lib\\site-packages (from zeugma) (0.29.23)\n",
      "Requirement already satisfied: scipy>=0.18.1 in c:\\users\\kapil\\anaconda3\\lib\\site-packages (from gensim>=3.5.0->zeugma) (1.7.1)\n",
      "Requirement already satisfied: smart-open>=1.8.1 in c:\\users\\kapil\\anaconda3\\lib\\site-packages (from gensim>=3.5.0->zeugma) (5.2.1)\n",
      "Requirement already satisfied: python-dateutil>=2.7.3 in c:\\users\\kapil\\anaconda3\\lib\\site-packages (from pandas>=0.20.3->zeugma) (2.8.2)\n",
      "Requirement already satisfied: pytz>=2017.3 in c:\\users\\kapil\\anaconda3\\lib\\site-packages (from pandas>=0.20.3->zeugma) (2021.3)\n",
      "Requirement already satisfied: six>=1.5 in c:\\users\\kapil\\anaconda3\\lib\\site-packages (from python-dateutil>=2.7.3->pandas>=0.20.3->zeugma) (1.16.0)\n",
      "Requirement already satisfied: threadpoolctl>=2.0.0 in c:\\users\\kapil\\anaconda3\\lib\\site-packages (from scikit-learn>=0.19.1->zeugma) (2.2.0)\n",
      "Requirement already satisfied: joblib>=0.11 in c:\\users\\kapil\\anaconda3\\lib\\site-packages (from scikit-learn>=0.19.1->zeugma) (1.1.0)\n",
      "Requirement already satisfied: libclang>=9.0.1 in c:\\users\\kapil\\anaconda3\\lib\\site-packages (from tensorflow>=1.5.0->zeugma) (12.0.0)\n",
      "Requirement already satisfied: protobuf>=3.9.2 in c:\\users\\kapil\\anaconda3\\lib\\site-packages (from tensorflow>=1.5.0->zeugma) (3.19.1)\n",
      "Requirement already satisfied: gast<0.5.0,>=0.2.1 in c:\\users\\kapil\\anaconda3\\lib\\site-packages (from tensorflow>=1.5.0->zeugma) (0.4.0)\n",
      "Requirement already satisfied: typing-extensions>=3.6.6 in c:\\users\\kapil\\anaconda3\\lib\\site-packages (from tensorflow>=1.5.0->zeugma) (3.10.0.2)\n",
      "Requirement already satisfied: flatbuffers<3.0,>=1.12 in c:\\users\\kapil\\anaconda3\\lib\\site-packages (from tensorflow>=1.5.0->zeugma) (2.0)\n",
      "Requirement already satisfied: h5py>=2.9.0 in c:\\users\\kapil\\anaconda3\\lib\\site-packages (from tensorflow>=1.5.0->zeugma) (3.2.1)\n",
      "Requirement already satisfied: google-pasta>=0.1.1 in c:\\users\\kapil\\anaconda3\\lib\\site-packages (from tensorflow>=1.5.0->zeugma) (0.2.0)\n",
      "Requirement already satisfied: grpcio<2.0,>=1.24.3 in c:\\users\\kapil\\anaconda3\\lib\\site-packages (from tensorflow>=1.5.0->zeugma) (1.43.0)\n",
      "Requirement already satisfied: wheel<1.0,>=0.32.0 in c:\\users\\kapil\\anaconda3\\lib\\site-packages (from tensorflow>=1.5.0->zeugma) (0.37.0)\n",
      "Requirement already satisfied: tensorflow-estimator<2.8,~=2.7.0rc0 in c:\\users\\kapil\\anaconda3\\lib\\site-packages (from tensorflow>=1.5.0->zeugma) (2.7.0)\n",
      "Requirement already satisfied: tensorboard~=2.6 in c:\\users\\kapil\\anaconda3\\lib\\site-packages (from tensorflow>=1.5.0->zeugma) (2.7.0)\n",
      "Requirement already satisfied: termcolor>=1.1.0 in c:\\users\\kapil\\anaconda3\\lib\\site-packages (from tensorflow>=1.5.0->zeugma) (1.1.0)\n",
      "Requirement already satisfied: wrapt>=1.11.0 in c:\\users\\kapil\\anaconda3\\lib\\site-packages (from tensorflow>=1.5.0->zeugma) (1.12.1)\n",
      "Requirement already satisfied: astunparse>=1.6.0 in c:\\users\\kapil\\anaconda3\\lib\\site-packages (from tensorflow>=1.5.0->zeugma) (1.6.3)\n",
      "Requirement already satisfied: absl-py>=0.4.0 in c:\\users\\kapil\\anaconda3\\lib\\site-packages (from tensorflow>=1.5.0->zeugma) (1.0.0)\n",
      "Requirement already satisfied: tensorflow-io-gcs-filesystem>=0.21.0 in c:\\users\\kapil\\anaconda3\\lib\\site-packages (from tensorflow>=1.5.0->zeugma) (0.23.1)\n",
      "Requirement already satisfied: opt-einsum>=2.3.2 in c:\\users\\kapil\\anaconda3\\lib\\site-packages (from tensorflow>=1.5.0->zeugma) (3.3.0)\n",
      "Requirement already satisfied: keras-preprocessing>=1.1.1 in c:\\users\\kapil\\anaconda3\\lib\\site-packages (from tensorflow>=1.5.0->zeugma) (1.1.2)\n",
      "Requirement already satisfied: werkzeug>=0.11.15 in c:\\users\\kapil\\anaconda3\\lib\\site-packages (from tensorboard~=2.6->tensorflow>=1.5.0->zeugma) (2.0.2)\n",
      "Requirement already satisfied: tensorboard-data-server<0.7.0,>=0.6.0 in c:\\users\\kapil\\anaconda3\\lib\\site-packages (from tensorboard~=2.6->tensorflow>=1.5.0->zeugma) (0.6.1)\n",
      "Requirement already satisfied: requests<3,>=2.21.0 in c:\\users\\kapil\\anaconda3\\lib\\site-packages (from tensorboard~=2.6->tensorflow>=1.5.0->zeugma) (2.26.0)\n",
      "Requirement already satisfied: setuptools>=41.0.0 in c:\\users\\kapil\\anaconda3\\lib\\site-packages (from tensorboard~=2.6->tensorflow>=1.5.0->zeugma) (58.0.4)\n",
      "Requirement already satisfied: markdown>=2.6.8 in c:\\users\\kapil\\anaconda3\\lib\\site-packages (from tensorboard~=2.6->tensorflow>=1.5.0->zeugma) (3.3.6)\n",
      "Requirement already satisfied: tensorboard-plugin-wit>=1.6.0 in c:\\users\\kapil\\anaconda3\\lib\\site-packages (from tensorboard~=2.6->tensorflow>=1.5.0->zeugma) (1.8.0)\n",
      "Requirement already satisfied: google-auth<3,>=1.6.3 in c:\\users\\kapil\\anaconda3\\lib\\site-packages (from tensorboard~=2.6->tensorflow>=1.5.0->zeugma) (2.3.3)\n",
      "Requirement already satisfied: google-auth-oauthlib<0.5,>=0.4.1 in c:\\users\\kapil\\anaconda3\\lib\\site-packages (from tensorboard~=2.6->tensorflow>=1.5.0->zeugma) (0.4.6)\n",
      "Requirement already satisfied: pyasn1-modules>=0.2.1 in c:\\users\\kapil\\anaconda3\\lib\\site-packages (from google-auth<3,>=1.6.3->tensorboard~=2.6->tensorflow>=1.5.0->zeugma) (0.2.8)\n",
      "Requirement already satisfied: rsa<5,>=3.1.4 in c:\\users\\kapil\\anaconda3\\lib\\site-packages (from google-auth<3,>=1.6.3->tensorboard~=2.6->tensorflow>=1.5.0->zeugma) (4.8)\n",
      "Requirement already satisfied: cachetools<5.0,>=2.0.0 in c:\\users\\kapil\\anaconda3\\lib\\site-packages (from google-auth<3,>=1.6.3->tensorboard~=2.6->tensorflow>=1.5.0->zeugma) (4.2.4)\n",
      "Requirement already satisfied: requests-oauthlib>=0.7.0 in c:\\users\\kapil\\anaconda3\\lib\\site-packages (from google-auth-oauthlib<0.5,>=0.4.1->tensorboard~=2.6->tensorflow>=1.5.0->zeugma) (1.3.0)\n",
      "Requirement already satisfied: importlib-metadata>=4.4 in c:\\users\\kapil\\anaconda3\\lib\\site-packages (from markdown>=2.6.8->tensorboard~=2.6->tensorflow>=1.5.0->zeugma) (4.11.3)\n",
      "Requirement already satisfied: zipp>=0.5 in c:\\users\\kapil\\anaconda3\\lib\\site-packages (from importlib-metadata>=4.4->markdown>=2.6.8->tensorboard~=2.6->tensorflow>=1.5.0->zeugma) (3.6.0)\n",
      "Requirement already satisfied: pyasn1<0.5.0,>=0.4.6 in c:\\users\\kapil\\anaconda3\\lib\\site-packages (from pyasn1-modules>=0.2.1->google-auth<3,>=1.6.3->tensorboard~=2.6->tensorflow>=1.5.0->zeugma) (0.4.8)\n",
      "Requirement already satisfied: urllib3<1.27,>=1.21.1 in c:\\users\\kapil\\anaconda3\\lib\\site-packages (from requests<3,>=2.21.0->tensorboard~=2.6->tensorflow>=1.5.0->zeugma) (1.26.7)\n",
      "Requirement already satisfied: charset-normalizer~=2.0.0 in c:\\users\\kapil\\anaconda3\\lib\\site-packages (from requests<3,>=2.21.0->tensorboard~=2.6->tensorflow>=1.5.0->zeugma) (2.0.4)\n",
      "Requirement already satisfied: certifi>=2017.4.17 in c:\\users\\kapil\\anaconda3\\lib\\site-packages (from requests<3,>=2.21.0->tensorboard~=2.6->tensorflow>=1.5.0->zeugma) (2021.10.8)\n",
      "Requirement already satisfied: idna<4,>=2.5 in c:\\users\\kapil\\anaconda3\\lib\\site-packages (from requests<3,>=2.21.0->tensorboard~=2.6->tensorflow>=1.5.0->zeugma) (3.2)\n",
      "Requirement already satisfied: oauthlib>=3.0.0 in c:\\users\\kapil\\anaconda3\\lib\\site-packages (from requests-oauthlib>=0.7.0->google-auth-oauthlib<0.5,>=0.4.1->tensorboard~=2.6->tensorflow>=1.5.0->zeugma) (3.1.1)\n"
     ]
    }
   ],
   "source": [
    "!pip install zeugma"
   ]
  },
  {
   "cell_type": "code",
   "execution_count": 2,
   "metadata": {},
   "outputs": [],
   "source": [
    "#Importing necessary libraries\n",
    "import pandas as pd\n",
    "import numpy as np\n",
    "import re,nltk,swifter\n",
    "import matplotlib.pyplot as plt\n",
    "import seaborn as sn\n",
    "from nltk.tokenize import TweetTokenizer\n",
    "from nltk.corpus import stopwords\n",
    "from sklearn.feature_extraction.text import TfidfVectorizer\n",
    "from sklearn.linear_model import LogisticRegression\n",
    "from sklearn.pipeline import Pipeline\n",
    "from sklearn.model_selection import train_test_split\n",
    "from sklearn.metrics import accuracy_score, confusion_matrix\n",
    "from sklearn.metrics import plot_confusion_matrix\n",
    "from sklearn.ensemble import RandomForestClassifier\n",
    "from sklearn import svm\n",
    "from sklearn import tree\n",
    "from zeugma.embeddings import EmbeddingTransformer\n"
   ]
  },
  {
   "cell_type": "code",
   "execution_count": 3,
   "metadata": {},
   "outputs": [],
   "source": [
    "from tqdm.notebook import tqdm\n",
    "from nltk.tokenize import word_tokenize\n",
    "from nltk.corpus import stopwords## 1. Load dataset"
   ]
  },
  {
   "cell_type": "markdown",
   "metadata": {},
   "source": [
    "## 1. Load dataset"
   ]
  },
  {
   "cell_type": "code",
   "execution_count": 4,
   "metadata": {},
   "outputs": [
    {
     "data": {
      "text/html": [
       "<div>\n",
       "<style scoped>\n",
       "    .dataframe tbody tr th:only-of-type {\n",
       "        vertical-align: middle;\n",
       "    }\n",
       "\n",
       "    .dataframe tbody tr th {\n",
       "        vertical-align: top;\n",
       "    }\n",
       "\n",
       "    .dataframe thead th {\n",
       "        text-align: right;\n",
       "    }\n",
       "</style>\n",
       "<table border=\"1\" class=\"dataframe\">\n",
       "  <thead>\n",
       "    <tr style=\"text-align: right;\">\n",
       "      <th></th>\n",
       "      <th>label</th>\n",
       "      <th>comment</th>\n",
       "      <th>author</th>\n",
       "      <th>score</th>\n",
       "      <th>created_utc</th>\n",
       "      <th>parent_comment</th>\n",
       "    </tr>\n",
       "  </thead>\n",
       "  <tbody>\n",
       "    <tr>\n",
       "      <th>0</th>\n",
       "      <td>0</td>\n",
       "      <td>NC and NH.</td>\n",
       "      <td>Trumpbart</td>\n",
       "      <td>2</td>\n",
       "      <td>2016-10-16 23:55:23</td>\n",
       "      <td>Yeah, I get that argument. At this point, I'd ...</td>\n",
       "    </tr>\n",
       "    <tr>\n",
       "      <th>1</th>\n",
       "      <td>0</td>\n",
       "      <td>You do know west teams play against west teams...</td>\n",
       "      <td>Shbshb906</td>\n",
       "      <td>-4</td>\n",
       "      <td>2016-11-01 00:24:10</td>\n",
       "      <td>The blazers and Mavericks (The wests 5 and 6 s...</td>\n",
       "    </tr>\n",
       "    <tr>\n",
       "      <th>2</th>\n",
       "      <td>0</td>\n",
       "      <td>They were underdogs earlier today, but since G...</td>\n",
       "      <td>Creepeth</td>\n",
       "      <td>3</td>\n",
       "      <td>2016-09-22 21:45:37</td>\n",
       "      <td>They're favored to win.</td>\n",
       "    </tr>\n",
       "    <tr>\n",
       "      <th>3</th>\n",
       "      <td>0</td>\n",
       "      <td>This meme isn't funny none of the \"new york ni...</td>\n",
       "      <td>icebrotha</td>\n",
       "      <td>-8</td>\n",
       "      <td>2016-10-18 21:03:47</td>\n",
       "      <td>deadass don't kill my buzz</td>\n",
       "    </tr>\n",
       "    <tr>\n",
       "      <th>4</th>\n",
       "      <td>0</td>\n",
       "      <td>I could use one of those tools.</td>\n",
       "      <td>cush2push</td>\n",
       "      <td>6</td>\n",
       "      <td>2016-12-30 17:00:13</td>\n",
       "      <td>Yep can confirm I saw the tool they use for th...</td>\n",
       "    </tr>\n",
       "  </tbody>\n",
       "</table>\n",
       "</div>"
      ],
      "text/plain": [
       "   label                                            comment     author  score  \\\n",
       "0      0                                         NC and NH.  Trumpbart      2   \n",
       "1      0  You do know west teams play against west teams...  Shbshb906     -4   \n",
       "2      0  They were underdogs earlier today, but since G...   Creepeth      3   \n",
       "3      0  This meme isn't funny none of the \"new york ni...  icebrotha     -8   \n",
       "4      0                    I could use one of those tools.  cush2push      6   \n",
       "\n",
       "           created_utc                                     parent_comment  \n",
       "0  2016-10-16 23:55:23  Yeah, I get that argument. At this point, I'd ...  \n",
       "1  2016-11-01 00:24:10  The blazers and Mavericks (The wests 5 and 6 s...  \n",
       "2  2016-09-22 21:45:37                            They're favored to win.  \n",
       "3  2016-10-18 21:03:47                         deadass don't kill my buzz  \n",
       "4  2016-12-30 17:00:13  Yep can confirm I saw the tool they use for th...  "
      ]
     },
     "execution_count": 4,
     "metadata": {},
     "output_type": "execute_result"
    }
   ],
   "source": [
    "#For reading data, we have to put path of the csv data file.\n",
    "df_t = pd.read_csv(r'C:\\Users\\kapil\\OneDrive\\Desktop\\NLP_Uzair\\Project\\Reddit_Sarcasm_Detection-main\\Reddit_Sarcasm_Detection-main\\src\\data\\train-balanced-sarcasm.csv')\n",
    "df_t = df_t.fillna('')\n",
    "df_t = df_t[['label','comment','author','score','created_utc','parent_comment']]\n",
    "df_t.head()"
   ]
  },
  {
   "cell_type": "code",
   "execution_count": 5,
   "metadata": {},
   "outputs": [
    {
     "data": {
      "text/html": [
       "<div>\n",
       "<style scoped>\n",
       "    .dataframe tbody tr th:only-of-type {\n",
       "        vertical-align: middle;\n",
       "    }\n",
       "\n",
       "    .dataframe tbody tr th {\n",
       "        vertical-align: top;\n",
       "    }\n",
       "\n",
       "    .dataframe thead th {\n",
       "        text-align: right;\n",
       "    }\n",
       "</style>\n",
       "<table border=\"1\" class=\"dataframe\">\n",
       "  <thead>\n",
       "    <tr style=\"text-align: right;\">\n",
       "      <th></th>\n",
       "      <th>label</th>\n",
       "      <th>comment</th>\n",
       "      <th>author</th>\n",
       "      <th>score</th>\n",
       "      <th>created_utc</th>\n",
       "      <th>parent_comment</th>\n",
       "    </tr>\n",
       "  </thead>\n",
       "  <tbody>\n",
       "    <tr>\n",
       "      <th>0</th>\n",
       "      <td>0</td>\n",
       "      <td>NC and NH.</td>\n",
       "      <td>Trumpbart</td>\n",
       "      <td>2</td>\n",
       "      <td>2016-10-16 23:55:23</td>\n",
       "      <td>Yeah, I get that argument. At this point, I'd ...</td>\n",
       "    </tr>\n",
       "    <tr>\n",
       "      <th>1</th>\n",
       "      <td>0</td>\n",
       "      <td>You do know west teams play against west teams...</td>\n",
       "      <td>Shbshb906</td>\n",
       "      <td>-4</td>\n",
       "      <td>2016-11-01 00:24:10</td>\n",
       "      <td>The blazers and Mavericks (The wests 5 and 6 s...</td>\n",
       "    </tr>\n",
       "    <tr>\n",
       "      <th>2</th>\n",
       "      <td>0</td>\n",
       "      <td>They were underdogs earlier today, but since G...</td>\n",
       "      <td>Creepeth</td>\n",
       "      <td>3</td>\n",
       "      <td>2016-09-22 21:45:37</td>\n",
       "      <td>They're favored to win.</td>\n",
       "    </tr>\n",
       "    <tr>\n",
       "      <th>3</th>\n",
       "      <td>0</td>\n",
       "      <td>This meme isn't funny none of the \"new york ni...</td>\n",
       "      <td>icebrotha</td>\n",
       "      <td>-8</td>\n",
       "      <td>2016-10-18 21:03:47</td>\n",
       "      <td>deadass don't kill my buzz</td>\n",
       "    </tr>\n",
       "    <tr>\n",
       "      <th>4</th>\n",
       "      <td>0</td>\n",
       "      <td>I could use one of those tools.</td>\n",
       "      <td>cush2push</td>\n",
       "      <td>6</td>\n",
       "      <td>2016-12-30 17:00:13</td>\n",
       "      <td>Yep can confirm I saw the tool they use for th...</td>\n",
       "    </tr>\n",
       "  </tbody>\n",
       "</table>\n",
       "</div>"
      ],
      "text/plain": [
       "   label                                            comment     author  score  \\\n",
       "0      0                                         NC and NH.  Trumpbart      2   \n",
       "1      0  You do know west teams play against west teams...  Shbshb906     -4   \n",
       "2      0  They were underdogs earlier today, but since G...   Creepeth      3   \n",
       "3      0  This meme isn't funny none of the \"new york ni...  icebrotha     -8   \n",
       "4      0                    I could use one of those tools.  cush2push      6   \n",
       "\n",
       "           created_utc                                     parent_comment  \n",
       "0  2016-10-16 23:55:23  Yeah, I get that argument. At this point, I'd ...  \n",
       "1  2016-11-01 00:24:10  The blazers and Mavericks (The wests 5 and 6 s...  \n",
       "2  2016-09-22 21:45:37                            They're favored to win.  \n",
       "3  2016-10-18 21:03:47                         deadass don't kill my buzz  \n",
       "4  2016-12-30 17:00:13  Yep can confirm I saw the tool they use for th...  "
      ]
     },
     "execution_count": 5,
     "metadata": {},
     "output_type": "execute_result"
    }
   ],
   "source": [
    "# df = pd.read_csv(r'C:\\Users\\kapil\\OneDrive\\Desktop\\NLP_Uzair\\Project\\Reddit_Sarcasm_Detection-main\\Reddit_Sarcasm_Detection-main\\src\\data\\train-balanced-sarcasm.csv')\n",
    "# df = df.fillna('')\n",
    "# df = df[['label','comment','author','score','created_utc','parent_comment']]\n",
    "# df.head()"
   ]
  },
  {
   "cell_type": "code",
   "execution_count": 6,
   "metadata": {},
   "outputs": [
    {
     "data": {
      "application/vnd.jupyter.widget-view+json": {
       "model_id": "cc92d7d6a14f44a8a6c6f8002bdba9a3",
       "version_major": 2,
       "version_minor": 0
      },
      "text/plain": [
       "0it [00:00, ?it/s]"
      ]
     },
     "metadata": {},
     "output_type": "display_data"
    },
    {
     "name": "stdout",
     "output_type": "stream",
     "text": [
      "Found 400000 word vectors.\n"
     ]
    }
   ],
   "source": [
    "#Loading GloVe\n",
    "embeddings_index = {}\n",
    "glove_path = r'C:\\Users\\kapil\\OneDrive\\Desktop\\NLP_Uzair\\Project\\Reddit_Sarcasm_Detection-main\\Reddit_Sarcasm_Detection-main\\src\\models\\GlOVE\\glove.6B.50d.txt'\n",
    "with open(glove_path, encoding=\"utf8\") as f:\n",
    "    for line in tqdm(f):\n",
    "        \n",
    "        values = line.split()\n",
    "        word = values[0]\n",
    "        try:\n",
    "            coefs = np.asarray(values[1:], dtype='float32')\n",
    "            embeddings_index[word] = coefs\n",
    "        except ValueError:\n",
    "            pass\n",
    "print('Found %s word vectors.' % len(embeddings_index))"
   ]
  },
  {
   "cell_type": "markdown",
   "metadata": {},
   "source": [
    "# Cleaning comments"
   ]
  },
  {
   "cell_type": "code",
   "execution_count": 7,
   "metadata": {},
   "outputs": [
    {
     "data": {
      "application/vnd.jupyter.widget-view+json": {
       "model_id": "94e3cafe39ae4579ab63cf9c3d5e5961",
       "version_major": 2,
       "version_minor": 0
      },
      "text/plain": [
       "Dask Apply:   0%|          | 0/16 [00:00<?, ?it/s]"
      ]
     },
     "metadata": {},
     "output_type": "display_data"
    }
   ],
   "source": [
    "#Set of stop words excluding some of the words which show negation since its necessary for sarcasm detection:\n",
    "stops = set(stopwords.words('english')) - {'no','not','nor','against','above','below','off','own'}\n",
    "\n",
    "tokenizer = TweetTokenizer(strip_handles=True, reduce_len=True)\n",
    "def clean_text(comment):\n",
    "    text = str(comment)\n",
    "    text = re.sub(r'http[s]?://(?:[a-zA-Z]|[0-9]|[$-_@.&+]|[!*\\(\\), ]|(?:%[0-9a-fA-F][0-9a-fA-F]))+',' ',text)\n",
    "    text = re.sub(\"<.*?>\", \" \", text)\n",
    "    text = re.sub(r\"[0-9]+\",\" \",text)\n",
    "    text = re.sub(r\"@[A-Za-z0-9]+\",\" \",text)\n",
    "    text = re.sub(r\"won't\", \"will not\", text)\n",
    "    text = re.sub(r\"can\\'t\", \"can not\", text)\n",
    "    text = re.sub(r\"n\\'t\", \" not\", text)\n",
    "    text = re.sub(r\"\\'re\", \" are\", text)\n",
    "    text = re.sub(r\"\\'s\", \" is\", text)\n",
    "    text = re.sub(r\"\\'d\", \" would\", text)\n",
    "    text = re.sub(r\"\\'ll\", \" will\", text)\n",
    "    text = re.sub(r\"\\'t\", \" not\", text)\n",
    "    text = re.sub(r\"\\'ve\", \" have\", text)\n",
    "    text = re.sub(r\"\\'m\", \" am\", text)\n",
    "    text = re.sub(r\"n\\'t\", ' not',text)\n",
    "    text = text.replace('\\\\r', ' ')\n",
    "    text = text.replace('\\\\\"', ' ')\n",
    "    text = text.replace('\\\\n', ' ')\n",
    "    text = re.sub('[^A-Za-z0-9]+',' ', text)\n",
    "    text = ' '.join(token for token in tokenizer.tokenize(text.lower()) if token not in stops)\n",
    "    text = text.lower().strip()\n",
    "    return text\n",
    "\n",
    "df[\"cleaned_comment\"] = df.swifter.apply(lambda x: clean_text(x[\"comment\"]),axis=1)\n"
   ]
  },
  {
   "cell_type": "markdown",
   "metadata": {},
   "source": [
    "# Train-test Split"
   ]
  },
  {
   "cell_type": "code",
   "execution_count": 8,
   "metadata": {},
   "outputs": [],
   "source": [
    "train_x, val_x,train_y , val_y = train_test_split(df.drop('label',axis=1),df['label'],random_state=123,test_size=0.20)\n",
    "train_txt = train_x['cleaned_comment']\n",
    "val_txt = val_x['cleaned_comment']"
   ]
  },
  {
   "cell_type": "markdown",
   "metadata": {},
   "source": [
    "# Create the embedded vectors for training and testing"
   ]
  },
  {
   "cell_type": "code",
   "execution_count": 9,
   "metadata": {},
   "outputs": [
    {
     "data": {
      "application/vnd.jupyter.widget-view+json": {
       "model_id": "b8748ea2b02549bc9a96702247fb2fec",
       "version_major": 2,
       "version_minor": 0
      },
      "text/plain": [
       "  0%|          | 0/808660 [00:00<?, ?it/s]"
      ]
     },
     "metadata": {},
     "output_type": "display_data"
    },
    {
     "data": {
      "application/vnd.jupyter.widget-view+json": {
       "model_id": "b06c4278b9d94d42ad0a6c51af3f6ea4",
       "version_major": 2,
       "version_minor": 0
      },
      "text/plain": [
       "  0%|          | 0/202166 [00:00<?, ?it/s]"
      ]
     },
     "metadata": {},
     "output_type": "display_data"
    }
   ],
   "source": [
    "#Converts sentence to vectors\n",
    "def sent2vec(s):\n",
    "    stop_words = set(stopwords.words(\"english\"))\n",
    "    words = str(s).lower()\n",
    "    words = word_tokenize(words)\n",
    "    words = [w for w in words if not w in stop_words]\n",
    "    words = [w for w in words if w.isalpha()]\n",
    "    M = []\n",
    "    for w in words:\n",
    "        try:\n",
    "            M.append(embeddings_index[w])\n",
    "        except:\n",
    "            continue\n",
    "    M = np.array(M)\n",
    "    v = M.sum(axis=0)\n",
    "    if type(v) != np.ndarray:\n",
    "        return np.zeros(300)\n",
    "    return v / np.sqrt((v ** 2).sum())\n",
    "\n",
    "xtrain_glove50 = [sent2vec(x) for x in tqdm(train_txt)]\n",
    "xval_glove50 = [sent2vec(x) for x in tqdm(val_txt)]"
   ]
  },
  {
   "cell_type": "code",
   "execution_count": 11,
   "metadata": {},
   "outputs": [],
   "source": [
    "#Using pre trained word embedding\n",
    "glove = EmbeddingTransformer('glove')\n",
    "\n",
    "#Transforming data\n",
    "xtrain_glove = glove.transform(train_txt)\n",
    "xval_glove = glove.transform(val_txt)\n"
   ]
  },
  {
   "cell_type": "markdown",
   "metadata": {},
   "source": [
    "# Logistic Regressing with  Glove"
   ]
  },
  {
   "cell_type": "code",
   "execution_count": 12,
   "metadata": {},
   "outputs": [
    {
     "name": "stderr",
     "output_type": "stream",
     "text": [
      "[Parallel(n_jobs=6)]: Using backend ThreadingBackend with 6 concurrent workers.\n"
     ]
    },
    {
     "name": "stdout",
     "output_type": "stream",
     "text": [
      "convergence after 17 epochs took 20 seconds\n",
      "Wall time: 20.3 s\n"
     ]
    },
    {
     "name": "stderr",
     "output_type": "stream",
     "text": [
      "[Parallel(n_jobs=6)]: Done   1 out of   1 | elapsed:   20.1s finished\n"
     ]
    },
    {
     "data": {
      "text/plain": [
       "LogisticRegression(C=0.1, max_iter=10000, n_jobs=6, random_state=123,\n",
       "                   solver='saga', verbose=1)"
      ]
     },
     "execution_count": 12,
     "metadata": {},
     "output_type": "execute_result"
    }
   ],
   "source": [
    "#Initializing logistic regression classifier\n",
    "%%time\n",
    "log_reg_glove = LogisticRegression(random_state=123,n_jobs=6,verbose=1,max_iter = 10000,solver = 'saga', C = 0.1)\n",
    "\n",
    "#fitting model\n",
    "log_reg_glove.fit(xtrain_glove,train_y)"
   ]
  },
  {
   "cell_type": "code",
   "execution_count": 13,
   "metadata": {},
   "outputs": [
    {
     "name": "stdout",
     "output_type": "stream",
     "text": [
      "Wall time: 64.9 ms\n"
     ]
    },
    {
     "data": {
      "text/plain": [
       "0.5749483098048138"
      ]
     },
     "execution_count": 13,
     "metadata": {},
     "output_type": "execute_result"
    }
   ],
   "source": [
    "#predicting values\n",
    "%%time\n",
    "val_predict = log_reg_glove.predict(xval_glove)\n",
    "\n",
    "#Calculating accuracy\n",
    "accuracy_score(val_y,val_predict)\n",
    "#0.5749483098048138"
   ]
  },
  {
   "cell_type": "code",
   "execution_count": 14,
   "metadata": {},
   "outputs": [
    {
     "data": {
      "image/png": "[encoded data removed]",
      "text/plain": [
       "<Figure size 432x288 with 2 Axes>"
      ]
     },
     "metadata": {
      "needs_background": "light"
     },
     "output_type": "display_data"
    }
   ],
   "source": [
    "#Plotting confusion matrix for the same\n",
    "def plot_conf_mat(val_y,val_predict):\n",
    "    log_regression_conf_mat = confusion_matrix(val_y,val_predict)\n",
    "    # sn.heatmap(log_regression_conf_mat, annot=True,cmap='Blues')\n",
    "    group_names = ['True Neg','False Pos','False Neg','True Pos']\n",
    "    group_counts = [\"{0:0.0f}\".format(value) for value in\n",
    "                    log_regression_conf_mat.flatten()]\n",
    "    group_percentages = [\"{0:.2%}\".format(value) for value in\n",
    "                        log_regression_conf_mat.flatten()/np.sum(log_regression_conf_mat)]\n",
    "    labels = [f\"{v1}\\n{v2}\\n{v3}\" for v1, v2, v3 in\n",
    "            zip(group_names,group_counts,group_percentages)]\n",
    "    labels = np.asarray(labels).reshape(2,2)\n",
    "    sn.heatmap(log_regression_conf_mat, annot=labels, fmt='', cmap='Blues')\n",
    "plot_conf_mat(val_y,val_predict)"
   ]
  },
  {
   "cell_type": "markdown",
   "metadata": {},
   "source": [
    "# RandomForest with Glove"
   ]
  },
  {
   "cell_type": "code",
   "execution_count": 15,
   "metadata": {},
   "outputs": [
    {
     "name": "stderr",
     "output_type": "stream",
     "text": [
      "[Parallel(n_jobs=6)]: Using backend ThreadingBackend with 6 concurrent workers.\n",
      "[Parallel(n_jobs=6)]: Done  38 tasks      | elapsed:  1.1min\n",
      "[Parallel(n_jobs=6)]: Done 188 tasks      | elapsed:  6.5min\n"
     ]
    },
    {
     "name": "stdout",
     "output_type": "stream",
     "text": [
      "Wall time: 14min 14s\n"
     ]
    },
    {
     "name": "stderr",
     "output_type": "stream",
     "text": [
      "[Parallel(n_jobs=6)]: Done 400 out of 400 | elapsed: 14.2min finished\n"
     ]
    },
    {
     "data": {
      "text/plain": [
       "RandomForestClassifier(max_depth=1000, n_estimators=400, n_jobs=6,\n",
       "                       random_state=123, verbose=1)"
      ]
     },
     "execution_count": 15,
     "metadata": {},
     "output_type": "execute_result"
    }
   ],
   "source": [
    "#Initializing RandomForest Classifier\n",
    "%%time\n",
    "rf_glove = RandomForestClassifier(max_depth = 1000, n_estimators = 400, random_state = 123, n_jobs = 6, verbose = 1)\n",
    "\n",
    "#fitting model\n",
    "rf_glove.fit(xtrain_glove,train_y)"
   ]
  },
  {
   "cell_type": "code",
   "execution_count": 16,
   "metadata": {},
   "outputs": [
    {
     "name": "stderr",
     "output_type": "stream",
     "text": [
      "[Parallel(n_jobs=6)]: Using backend ThreadingBackend with 6 concurrent workers.\n",
      "[Parallel(n_jobs=6)]: Done  38 tasks      | elapsed:    2.0s\n",
      "[Parallel(n_jobs=6)]: Done 188 tasks      | elapsed:   11.2s\n"
     ]
    },
    {
     "name": "stdout",
     "output_type": "stream",
     "text": [
      "Wall time: 22.6 s\n"
     ]
    },
    {
     "name": "stderr",
     "output_type": "stream",
     "text": [
      "[Parallel(n_jobs=6)]: Done 400 out of 400 | elapsed:   22.2s finished\n"
     ]
    },
    {
     "data": {
      "text/plain": [
       "0.6275733802914437"
      ]
     },
     "execution_count": 16,
     "metadata": {},
     "output_type": "execute_result"
    }
   ],
   "source": [
    "#predicting values\n",
    "%%time\n",
    "val_predict = rf_glove.predict(xval_glove)\n",
    "\n",
    "#Calculating accuracy\n",
    "accuracy_score(val_y,val_predict)\n",
    "#0.6275733802914437"
   ]
  },
  {
   "cell_type": "markdown",
   "metadata": {},
   "source": [
    "## Decision Tree with Glove: "
   ]
  },
  {
   "cell_type": "code",
   "execution_count": 17,
   "metadata": {},
   "outputs": [
    {
     "name": "stdout",
     "output_type": "stream",
     "text": [
      "Wall time: 6.65 s\n"
     ]
    },
    {
     "data": {
      "text/plain": [
       "DecisionTreeClassifier(criterion='entropy', max_depth=256, splitter='random')"
      ]
     },
     "execution_count": 17,
     "metadata": {},
     "output_type": "execute_result"
    }
   ],
   "source": [
    "#Initializing DecisionTree Classifier\n",
    "%%time\n",
    "dt_glove = tree.DecisionTreeClassifier(max_depth=256,criterion=\"entropy\",splitter=\"random\")\n",
    "\n",
    "#fitting model\n",
    "dt_glove.fit(xtrain_glove,train_y)"
   ]
  },
  {
   "cell_type": "code",
   "execution_count": 18,
   "metadata": {},
   "outputs": [
    {
     "name": "stdout",
     "output_type": "stream",
     "text": [
      "Wall time: 145 ms\n"
     ]
    },
    {
     "data": {
      "text/plain": [
       "0.5641255206117745"
      ]
     },
     "execution_count": 18,
     "metadata": {},
     "output_type": "execute_result"
    }
   ],
   "source": [
    "#predicting values\n",
    "%%time\n",
    "val_predict = dt_glove.predict(xval_glove)\n",
    "#calculating accuracy\n",
    "accuracy_score(val_y,val_predict)\n",
    "#0.5641255206117745"
   ]
  },
  {
   "cell_type": "code",
   "execution_count": null,
   "metadata": {},
   "outputs": [],
   "source": []
  }
 ],
 "metadata": {
  "interpreter": {
   "hash": "36f0e4b0a7ea5d9009060c84ac0572df4a90298368e23ad6ca51e547eda0a6da"
  },
  "kernelspec": {
   "display_name": "Python 3 (ipykernel)",
   "language": "python",
   "name": "python3"
  },
  "language_info": {
   "codemirror_mode": {
    "name": "ipython",
    "version": 3
   },
   "file_extension": ".py",
   "mimetype": "text/x-python",
   "name": "python",
   "nbconvert_exporter": "python",
   "pygments_lexer": "ipython3",
   "version": "3.9.7"
  }
 },
 "nbformat": 4,
 "nbformat_minor": 2
}
