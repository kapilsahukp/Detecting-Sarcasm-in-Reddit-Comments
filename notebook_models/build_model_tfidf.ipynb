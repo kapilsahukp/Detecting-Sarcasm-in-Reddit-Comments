{
 "cells": [
  {
   "cell_type": "code",
   "execution_count": 1,
   "metadata": {},
   "outputs": [],
   "source": [
    "#Importing necessary libraries\n",
    "import pandas as pd\n",
    "import numpy as np\n",
    "import re,nltk,swifter\n",
    "import matplotlib.pyplot as plt\n",
    "import seaborn as sn\n",
    "from nltk.tokenize import TweetTokenizer\n",
    "from nltk.corpus import stopwords\n",
    "from sklearn.feature_extraction.text import TfidfVectorizer\n",
    "from sklearn.linear_model import LogisticRegression\n",
    "from sklearn.pipeline import Pipeline\n",
    "from sklearn.model_selection import train_test_split\n",
    "from sklearn.metrics import accuracy_score, confusion_matrix\n",
    "from sklearn.metrics import plot_confusion_matrix\n",
    "from sklearn.ensemble import RandomForestClassifier\n",
    "from sklearn import svm\n",
    "from sklearn import tree"
   ]
  },
  {
   "cell_type": "markdown",
   "metadata": {},
   "source": [
    "## 1. Load dataset"
   ]
  },
  {
   "cell_type": "code",
   "execution_count": 2,
   "metadata": {},
   "outputs": [
    {
     "data": {
      "text/html": [
       "<div>\n",
       "<style scoped>\n",
       "    .dataframe tbody tr th:only-of-type {\n",
       "        vertical-align: middle;\n",
       "    }\n",
       "\n",
       "    .dataframe tbody tr th {\n",
       "        vertical-align: top;\n",
       "    }\n",
       "\n",
       "    .dataframe thead th {\n",
       "        text-align: right;\n",
       "    }\n",
       "</style>\n",
       "<table border=\"1\" class=\"dataframe\">\n",
       "  <thead>\n",
       "    <tr style=\"text-align: right;\">\n",
       "      <th></th>\n",
       "      <th>label</th>\n",
       "      <th>comment</th>\n",
       "      <th>author</th>\n",
       "      <th>score</th>\n",
       "      <th>created_utc</th>\n",
       "      <th>parent_comment</th>\n",
       "    </tr>\n",
       "  </thead>\n",
       "  <tbody>\n",
       "    <tr>\n",
       "      <th>0</th>\n",
       "      <td>0</td>\n",
       "      <td>NC and NH.</td>\n",
       "      <td>Trumpbart</td>\n",
       "      <td>2</td>\n",
       "      <td>2016-10-16 23:55:23</td>\n",
       "      <td>Yeah, I get that argument. At this point, I'd ...</td>\n",
       "    </tr>\n",
       "    <tr>\n",
       "      <th>1</th>\n",
       "      <td>0</td>\n",
       "      <td>You do know west teams play against west teams...</td>\n",
       "      <td>Shbshb906</td>\n",
       "      <td>-4</td>\n",
       "      <td>2016-11-01 00:24:10</td>\n",
       "      <td>The blazers and Mavericks (The wests 5 and 6 s...</td>\n",
       "    </tr>\n",
       "    <tr>\n",
       "      <th>2</th>\n",
       "      <td>0</td>\n",
       "      <td>They were underdogs earlier today, but since G...</td>\n",
       "      <td>Creepeth</td>\n",
       "      <td>3</td>\n",
       "      <td>2016-09-22 21:45:37</td>\n",
       "      <td>They're favored to win.</td>\n",
       "    </tr>\n",
       "    <tr>\n",
       "      <th>3</th>\n",
       "      <td>0</td>\n",
       "      <td>This meme isn't funny none of the \"new york ni...</td>\n",
       "      <td>icebrotha</td>\n",
       "      <td>-8</td>\n",
       "      <td>2016-10-18 21:03:47</td>\n",
       "      <td>deadass don't kill my buzz</td>\n",
       "    </tr>\n",
       "    <tr>\n",
       "      <th>4</th>\n",
       "      <td>0</td>\n",
       "      <td>I could use one of those tools.</td>\n",
       "      <td>cush2push</td>\n",
       "      <td>6</td>\n",
       "      <td>2016-12-30 17:00:13</td>\n",
       "      <td>Yep can confirm I saw the tool they use for th...</td>\n",
       "    </tr>\n",
       "  </tbody>\n",
       "</table>\n",
       "</div>"
      ],
      "text/plain": [
       "   label                                            comment     author  score  \\\n",
       "0      0                                         NC and NH.  Trumpbart      2   \n",
       "1      0  You do know west teams play against west teams...  Shbshb906     -4   \n",
       "2      0  They were underdogs earlier today, but since G...   Creepeth      3   \n",
       "3      0  This meme isn't funny none of the \"new york ni...  icebrotha     -8   \n",
       "4      0                    I could use one of those tools.  cush2push      6   \n",
       "\n",
       "           created_utc                                     parent_comment  \n",
       "0  2016-10-16 23:55:23  Yeah, I get that argument. At this point, I'd ...  \n",
       "1  2016-11-01 00:24:10  The blazers and Mavericks (The wests 5 and 6 s...  \n",
       "2  2016-09-22 21:45:37                            They're favored to win.  \n",
       "3  2016-10-18 21:03:47                         deadass don't kill my buzz  \n",
       "4  2016-12-30 17:00:13  Yep can confirm I saw the tool they use for th...  "
      ]
     },
     "execution_count": 2,
     "metadata": {},
     "output_type": "execute_result"
    }
   ],
   "source": [
    "#For reading data, we have to put path of the csv data file.\n",
    "df = pd.read_csv(r'C:\\Users\\kapil\\OneDrive\\Desktop\\NLP_Uzair\\Project\\Reddit_Sarcasm_Detection-main\\Reddit_Sarcasm_Detection-main\\src\\data\\train-balanced-sarcasm.csv')\n",
    "df = df.fillna('')\n",
    "df = df[['label','comment','author','score','created_utc','parent_comment']]\n",
    "df.head()"
   ]
  },
  {
   "cell_type": "markdown",
   "metadata": {},
   "source": [
    "## Data Cleaning (Comments) : "
   ]
  },
  {
   "cell_type": "code",
   "execution_count": 3,
   "metadata": {},
   "outputs": [
    {
     "data": {
      "application/vnd.jupyter.widget-view+json": {
       "model_id": "6be10d28b8ff4150a58626b05ee6ff41",
       "version_major": 2,
       "version_minor": 0
      },
      "text/plain": [
       "Dask Apply:   0%|          | 0/16 [00:00<?, ?it/s]"
      ]
     },
     "metadata": {},
     "output_type": "display_data"
    }
   ],
   "source": [
    "#Set of stop words excluding some of the words which show negation since its necessary for sarcasm detection:\n",
    "stops = set(stopwords.words('english')) - {'no','not','nor','against','above','below','off','own'}\n",
    "\n",
    "#Function to clean text/comment:\n",
    "def clean_text(comment):\n",
    "    text = str(comment)\n",
    "    text = re.sub(r'http[s]?://(?:[a-zA-Z]|[0-9]|[$-_@.&+]|[!*\\(\\), ]|(?:%[0-9a-fA-F][0-9a-fA-F]))+',' ',text)\n",
    "    text = re.sub(\"<.*?>\", \" \", text)\n",
    "    text = re.sub(r\"[0-9]+\",\" \",text)\n",
    "    text = re.sub(r\"@[A-Za-z0-9]+\",\" \",text)\n",
    "    text = re.sub(r\"won't\", \"will not\", text)\n",
    "    text = re.sub(r\"can\\'t\", \"can not\", text)\n",
    "    text = re.sub(r\"n\\'t\", \" not\", text)\n",
    "    text = re.sub(r\"\\'re\", \" are\", text)\n",
    "    text = re.sub(r\"\\'s\", \" is\", text)\n",
    "    text = re.sub(r\"\\'d\", \" would\", text)\n",
    "    text = re.sub(r\"\\'ll\", \" will\", text)\n",
    "    text = re.sub(r\"\\'t\", \" not\", text)\n",
    "    text = re.sub(r\"\\'ve\", \" have\", text)\n",
    "    text = re.sub(r\"\\'m\", \" am\", text)\n",
    "    text = re.sub(r\"n\\'t\", ' not',text)\n",
    "    text = text.replace('\\\\r', ' ')\n",
    "    text = text.replace('\\\\\"', ' ')\n",
    "    text = text.replace('\\\\n', ' ')\n",
    "    text = re.sub('[^A-Za-z0-9]+',' ', text)\n",
    "    tokenizer = TweetTokenizer(strip_handles=True, reduce_len=True)\n",
    "    text = ' '.join(token for token in tokenizer.tokenize(text.lower()) if token not in stops)\n",
    "    text = text.lower().strip()\n",
    "    return text\n",
    "\n",
    "#cleaned comment will be stored in a new column:\n",
    "df[\"cleaned_comment\"] = df.swifter.apply(lambda x: clean_text(x[\"comment\"]),axis=1)\n"
   ]
  },
  {
   "cell_type": "markdown",
   "metadata": {},
   "source": [
    "## Test train split for model training:"
   ]
  },
  {
   "cell_type": "code",
   "execution_count": 4,
   "metadata": {},
   "outputs": [],
   "source": [
    "#Its a standard 80-20 split\n",
    "train_x, val_x,train_y , val_y = train_test_split(df.drop('label',axis=1),df['label'],random_state=123,test_size=0.20)#"
   ]
  },
  {
   "cell_type": "code",
   "execution_count": 5,
   "metadata": {},
   "outputs": [
    {
     "data": {
      "text/html": [
       "<div>\n",
       "<style scoped>\n",
       "    .dataframe tbody tr th:only-of-type {\n",
       "        vertical-align: middle;\n",
       "    }\n",
       "\n",
       "    .dataframe tbody tr th {\n",
       "        vertical-align: top;\n",
       "    }\n",
       "\n",
       "    .dataframe thead th {\n",
       "        text-align: right;\n",
       "    }\n",
       "</style>\n",
       "<table border=\"1\" class=\"dataframe\">\n",
       "  <thead>\n",
       "    <tr style=\"text-align: right;\">\n",
       "      <th></th>\n",
       "      <th>comment</th>\n",
       "      <th>author</th>\n",
       "      <th>score</th>\n",
       "      <th>created_utc</th>\n",
       "      <th>parent_comment</th>\n",
       "      <th>cleaned_comment</th>\n",
       "    </tr>\n",
       "  </thead>\n",
       "  <tbody>\n",
       "    <tr>\n",
       "      <th>472809</th>\n",
       "      <td>Looks like some kind of ficus (fig tree) but I...</td>\n",
       "      <td>SloightlyOnTheHuh</td>\n",
       "      <td>2</td>\n",
       "      <td>2015-12-05 17:17:48</td>\n",
       "      <td>I like the look of this and thought about repl...</td>\n",
       "      <td>looks like kind ficus fig tree could not tell</td>\n",
       "    </tr>\n",
       "    <tr>\n",
       "      <th>59081</th>\n",
       "      <td>Donald the reality TV star does care about TV ...</td>\n",
       "      <td>rk119</td>\n",
       "      <td>1</td>\n",
       "      <td>2016-10-21 15:51:05</td>\n",
       "      <td>About 71 million watch final presidential deba...</td>\n",
       "      <td>donald reality tv star care tv ratings</td>\n",
       "    </tr>\n",
       "    <tr>\n",
       "      <th>5664</th>\n",
       "      <td>me irl</td>\n",
       "      <td>PixelPickaxe</td>\n",
       "      <td>1</td>\n",
       "      <td>2016-11-27 18:34:25</td>\n",
       "      <td>How much you want to bet that the artist was m...</td>\n",
       "      <td>irl</td>\n",
       "    </tr>\n",
       "    <tr>\n",
       "      <th>600959</th>\n",
       "      <td>Yo creia que su programa consistia en ser vene...</td>\n",
       "      <td>Mugut</td>\n",
       "      <td>1</td>\n",
       "      <td>2015-12-22 17:10:31</td>\n",
       "      <td>podemos</td>\n",
       "      <td>yo creia que su programa consistia en ser vene...</td>\n",
       "    </tr>\n",
       "    <tr>\n",
       "      <th>961633</th>\n",
       "      <td>I like how one seller is selling it \"New\" with...</td>\n",
       "      <td>TehAdmral</td>\n",
       "      <td>2</td>\n",
       "      <td>2012-02-29 00:32:30</td>\n",
       "      <td>\"I wanna play Pokemon Yellow again, its probab...</td>\n",
       "      <td>like one seller selling new no box</td>\n",
       "    </tr>\n",
       "  </tbody>\n",
       "</table>\n",
       "</div>"
      ],
      "text/plain": [
       "                                                  comment             author  \\\n",
       "472809  Looks like some kind of ficus (fig tree) but I...  SloightlyOnTheHuh   \n",
       "59081   Donald the reality TV star does care about TV ...              rk119   \n",
       "5664                                               me irl       PixelPickaxe   \n",
       "600959  Yo creia que su programa consistia en ser vene...              Mugut   \n",
       "961633  I like how one seller is selling it \"New\" with...          TehAdmral   \n",
       "\n",
       "        score          created_utc  \\\n",
       "472809      2  2015-12-05 17:17:48   \n",
       "59081       1  2016-10-21 15:51:05   \n",
       "5664        1  2016-11-27 18:34:25   \n",
       "600959      1  2015-12-22 17:10:31   \n",
       "961633      2  2012-02-29 00:32:30   \n",
       "\n",
       "                                           parent_comment  \\\n",
       "472809  I like the look of this and thought about repl...   \n",
       "59081   About 71 million watch final presidential deba...   \n",
       "5664    How much you want to bet that the artist was m...   \n",
       "600959                                            podemos   \n",
       "961633  \"I wanna play Pokemon Yellow again, its probab...   \n",
       "\n",
       "                                          cleaned_comment  \n",
       "472809      looks like kind ficus fig tree could not tell  \n",
       "59081              donald reality tv star care tv ratings  \n",
       "5664                                                  irl  \n",
       "600959  yo creia que su programa consistia en ser vene...  \n",
       "961633                 like one seller selling new no box  "
      ]
     },
     "execution_count": 5,
     "metadata": {},
     "output_type": "execute_result"
    }
   ],
   "source": [
    "train_x.head()"
   ]
  },
  {
   "cell_type": "code",
   "execution_count": 6,
   "metadata": {},
   "outputs": [],
   "source": [
    "train_txt = train_x['cleaned_comment']\n",
    "val_txt = val_x['cleaned_comment']"
   ]
  },
  {
   "cell_type": "markdown",
   "metadata": {},
   "source": [
    "# TF-IDF & LogisticRegression (wt only comments)"
   ]
  },
  {
   "cell_type": "code",
   "execution_count": 7,
   "metadata": {},
   "outputs": [],
   "source": [
    "# unigram and bigram vectorizer\n",
    "tfidf_vectorizer = TfidfVectorizer(ngram_range=(1,2),min_df=5,max_features=9000)\n",
    "\n",
    "#Initializing logistic regression classifier\n",
    "clf = LogisticRegression(random_state=123,n_jobs=6,verbose=1,max_iter = 500)\n",
    "\n",
    "#defining pipeline which feeds data to tfidf first and then to Logistic Regressor\n",
    "tfidf_log_reg_pipeline =  Pipeline([('tf_idf',tfidf_vectorizer),('logit',clf)])\n"
   ]
  },
  {
   "cell_type": "code",
   "execution_count": 8,
   "metadata": {},
   "outputs": [
    {
     "name": "stderr",
     "output_type": "stream",
     "text": [
      "[Parallel(n_jobs=6)]: Using backend LokyBackend with 6 concurrent workers.\n",
      "[Parallel(n_jobs=6)]: Done   1 out of   1 | elapsed:   25.3s finished\n"
     ]
    },
    {
     "name": "stdout",
     "output_type": "stream",
     "text": [
      "Wall time: 1min 7s\n"
     ]
    },
    {
     "data": {
      "text/plain": [
       "Pipeline(steps=[('tf_idf',\n",
       "                 TfidfVectorizer(max_features=9000, min_df=5,\n",
       "                                 ngram_range=(1, 2))),\n",
       "                ('logit',\n",
       "                 LogisticRegression(max_iter=500, n_jobs=6, random_state=123,\n",
       "                                    verbose=1))])"
      ]
     },
     "execution_count": 8,
     "metadata": {},
     "output_type": "execute_result"
    }
   ],
   "source": [
    "#fitting model\n",
    "%%time\n",
    "tfidf_log_reg_pipeline.fit(train_txt,train_y)"
   ]
  },
  {
   "cell_type": "code",
   "execution_count": 9,
   "metadata": {},
   "outputs": [
    {
     "name": "stdout",
     "output_type": "stream",
     "text": [
      "Wall time: 5.78 s\n"
     ]
    },
    {
     "data": {
      "text/plain": [
       "0.6833097553495642"
      ]
     },
     "execution_count": 9,
     "metadata": {},
     "output_type": "execute_result"
    }
   ],
   "source": [
    "#predicting values\n",
    "%%time\n",
    "val_predict = tfidf_log_reg_pipeline.predict(val_txt)\n",
    "#calculating accuracy\n",
    "accuracy_score(val_y,val_predict)\n",
    "#0.6832358722970114"
   ]
  },
  {
   "cell_type": "code",
   "execution_count": 10,
   "metadata": {},
   "outputs": [
    {
     "data": {
      "image/png": "[encoded data removed]",
      "text/plain": [
       "<Figure size 432x288 with 2 Axes>"
      ]
     },
     "metadata": {
      "needs_background": "light"
     },
     "output_type": "display_data"
    }
   ],
   "source": [
    "#Plotting confusion matrix for the same\n",
    "def plot_conf_mat(val_y,val_predict):\n",
    "    log_regression_conf_mat = confusion_matrix(val_y,val_predict)\n",
    "    # sn.heatmap(log_regression_conf_mat, annot=True,cmap='Blues')\n",
    "    group_names = ['True Neg','False Pos','False Neg','True Pos']\n",
    "    group_counts = [\"{0:0.0f}\".format(value) for value in\n",
    "                    log_regression_conf_mat.flatten()]\n",
    "    group_percentages = [\"{0:.2%}\".format(value) for value in\n",
    "                        log_regression_conf_mat.flatten()/np.sum(log_regression_conf_mat)]\n",
    "    labels = [f\"{v1}\\n{v2}\\n{v3}\" for v1, v2, v3 in\n",
    "            zip(group_names,group_counts,group_percentages)]\n",
    "    labels = np.asarray(labels).reshape(2,2)\n",
    "    sn.heatmap(log_regression_conf_mat, annot=labels, fmt='', cmap='Blues')\n",
    "plot_conf_mat(val_y,val_predict)"
   ]
  },
  {
   "cell_type": "markdown",
   "metadata": {},
   "source": [
    "# TF_IDF & Logistic Regression (Wt parent & child comment)"
   ]
  },
  {
   "cell_type": "code",
   "execution_count": 11,
   "metadata": {},
   "outputs": [
    {
     "data": {
      "application/vnd.jupyter.widget-view+json": {
       "model_id": "a46cb7136c594abb9ca3f69d1ac3dcbe",
       "version_major": 2,
       "version_minor": 0
      },
      "text/plain": [
       "Dask Apply:   0%|          | 0/16 [00:00<?, ?it/s]"
      ]
     },
     "metadata": {},
     "output_type": "display_data"
    },
    {
     "data": {
      "text/html": [
       "<div>\n",
       "<style scoped>\n",
       "    .dataframe tbody tr th:only-of-type {\n",
       "        vertical-align: middle;\n",
       "    }\n",
       "\n",
       "    .dataframe tbody tr th {\n",
       "        vertical-align: top;\n",
       "    }\n",
       "\n",
       "    .dataframe thead th {\n",
       "        text-align: right;\n",
       "    }\n",
       "</style>\n",
       "<table border=\"1\" class=\"dataframe\">\n",
       "  <thead>\n",
       "    <tr style=\"text-align: right;\">\n",
       "      <th></th>\n",
       "      <th>label</th>\n",
       "      <th>comment</th>\n",
       "      <th>author</th>\n",
       "      <th>score</th>\n",
       "      <th>created_utc</th>\n",
       "      <th>parent_comment</th>\n",
       "      <th>cleaned_comment</th>\n",
       "      <th>cleaned_parent_comment</th>\n",
       "      <th>cleaned_parent_child_comment</th>\n",
       "    </tr>\n",
       "  </thead>\n",
       "  <tbody>\n",
       "    <tr>\n",
       "      <th>0</th>\n",
       "      <td>0</td>\n",
       "      <td>NC and NH.</td>\n",
       "      <td>Trumpbart</td>\n",
       "      <td>2</td>\n",
       "      <td>2016-10-16 23:55:23</td>\n",
       "      <td>Yeah, I get that argument. At this point, I'd ...</td>\n",
       "      <td>nc nh</td>\n",
       "      <td>yeah get argument point would prefer lived nc ...</td>\n",
       "      <td>yeah get argument point would prefer lived nc ...</td>\n",
       "    </tr>\n",
       "    <tr>\n",
       "      <th>1</th>\n",
       "      <td>0</td>\n",
       "      <td>You do know west teams play against west teams...</td>\n",
       "      <td>Shbshb906</td>\n",
       "      <td>-4</td>\n",
       "      <td>2016-11-01 00:24:10</td>\n",
       "      <td>The blazers and Mavericks (The wests 5 and 6 s...</td>\n",
       "      <td>know west teams play against west teams east t...</td>\n",
       "      <td>blazers mavericks wests seed not even carry go...</td>\n",
       "      <td>blazers mavericks wests seed not even carry go...</td>\n",
       "    </tr>\n",
       "    <tr>\n",
       "      <th>2</th>\n",
       "      <td>0</td>\n",
       "      <td>They were underdogs earlier today, but since G...</td>\n",
       "      <td>Creepeth</td>\n",
       "      <td>3</td>\n",
       "      <td>2016-09-22 21:45:37</td>\n",
       "      <td>They're favored to win.</td>\n",
       "      <td>underdogs earlier today since gronk announceme...</td>\n",
       "      <td>favored win</td>\n",
       "      <td>favored win underdogs earlier today since gron...</td>\n",
       "    </tr>\n",
       "    <tr>\n",
       "      <th>3</th>\n",
       "      <td>0</td>\n",
       "      <td>This meme isn't funny none of the \"new york ni...</td>\n",
       "      <td>icebrotha</td>\n",
       "      <td>-8</td>\n",
       "      <td>2016-10-18 21:03:47</td>\n",
       "      <td>deadass don't kill my buzz</td>\n",
       "      <td>meme not funny none new york nigga ones</td>\n",
       "      <td>deadass not kill buzz</td>\n",
       "      <td>deadass not kill buzz meme not funny none new ...</td>\n",
       "    </tr>\n",
       "    <tr>\n",
       "      <th>4</th>\n",
       "      <td>0</td>\n",
       "      <td>I could use one of those tools.</td>\n",
       "      <td>cush2push</td>\n",
       "      <td>6</td>\n",
       "      <td>2016-12-30 17:00:13</td>\n",
       "      <td>Yep can confirm I saw the tool they use for th...</td>\n",
       "      <td>could use one tools</td>\n",
       "      <td>yep confirm saw tool use made boy easports mut</td>\n",
       "      <td>yep confirm saw tool use made boy easports mut...</td>\n",
       "    </tr>\n",
       "  </tbody>\n",
       "</table>\n",
       "</div>"
      ],
      "text/plain": [
       "   label                                            comment     author  score  \\\n",
       "0      0                                         NC and NH.  Trumpbart      2   \n",
       "1      0  You do know west teams play against west teams...  Shbshb906     -4   \n",
       "2      0  They were underdogs earlier today, but since G...   Creepeth      3   \n",
       "3      0  This meme isn't funny none of the \"new york ni...  icebrotha     -8   \n",
       "4      0                    I could use one of those tools.  cush2push      6   \n",
       "\n",
       "           created_utc                                     parent_comment  \\\n",
       "0  2016-10-16 23:55:23  Yeah, I get that argument. At this point, I'd ...   \n",
       "1  2016-11-01 00:24:10  The blazers and Mavericks (The wests 5 and 6 s...   \n",
       "2  2016-09-22 21:45:37                            They're favored to win.   \n",
       "3  2016-10-18 21:03:47                         deadass don't kill my buzz   \n",
       "4  2016-12-30 17:00:13  Yep can confirm I saw the tool they use for th...   \n",
       "\n",
       "                                     cleaned_comment  \\\n",
       "0                                              nc nh   \n",
       "1  know west teams play against west teams east t...   \n",
       "2  underdogs earlier today since gronk announceme...   \n",
       "3            meme not funny none new york nigga ones   \n",
       "4                                could use one tools   \n",
       "\n",
       "                              cleaned_parent_comment  \\\n",
       "0  yeah get argument point would prefer lived nc ...   \n",
       "1  blazers mavericks wests seed not even carry go...   \n",
       "2                                        favored win   \n",
       "3                              deadass not kill buzz   \n",
       "4     yep confirm saw tool use made boy easports mut   \n",
       "\n",
       "                        cleaned_parent_child_comment  \n",
       "0  yeah get argument point would prefer lived nc ...  \n",
       "1  blazers mavericks wests seed not even carry go...  \n",
       "2  favored win underdogs earlier today since gron...  \n",
       "3  deadass not kill buzz meme not funny none new ...  \n",
       "4  yep confirm saw tool use made boy easports mut...  "
      ]
     },
     "execution_count": 11,
     "metadata": {},
     "output_type": "execute_result"
    }
   ],
   "source": [
    "df[\"cleaned_parent_comment\"] = df.swifter.apply(lambda x: clean_text(x[\"parent_comment\"]),axis=1)\n",
    "df['cleaned_parent_child_comment'] = df['cleaned_parent_comment'] +' '+ df['cleaned_comment']\n",
    "df.head()"
   ]
  },
  {
   "cell_type": "code",
   "execution_count": 12,
   "metadata": {},
   "outputs": [],
   "source": [
    "#standard train-test split:\n",
    "train_x, val_x,train_y , val_y = train_test_split(df.drop('label',axis=1),df['label'],random_state=123,test_size=0.20)\n",
    "train_txt = train_x['cleaned_parent_child_comment']\n",
    "val_txt = val_x['cleaned_parent_child_comment']"
   ]
  },
  {
   "cell_type": "code",
   "execution_count": 13,
   "metadata": {},
   "outputs": [
    {
     "name": "stderr",
     "output_type": "stream",
     "text": [
      "[Parallel(n_jobs=6)]: Using backend LokyBackend with 6 concurrent workers.\n",
      "[Parallel(n_jobs=6)]: Done   1 out of   1 | elapsed:   37.6s finished\n"
     ]
    },
    {
     "name": "stdout",
     "output_type": "stream",
     "text": [
      "Wall time: 2min 41s\n"
     ]
    },
    {
     "data": {
      "text/plain": [
       "Pipeline(steps=[('tf_idf',\n",
       "                 TfidfVectorizer(max_features=15000, min_df=10,\n",
       "                                 ngram_range=(1, 2))),\n",
       "                ('logit',\n",
       "                 LogisticRegression(max_iter=500, n_jobs=6, random_state=123,\n",
       "                                    verbose=1))])"
      ]
     },
     "execution_count": 13,
     "metadata": {},
     "output_type": "execute_result"
    }
   ],
   "source": [
    "%%time\n",
    "# bigram and trigram vectorizer\n",
    "tfidf_vectorizer = TfidfVectorizer(ngram_range=(1,2),min_df=10,max_features=15000)\n",
    "clf = LogisticRegression(random_state=123,n_jobs=6,verbose=1,max_iter = 500)\n",
    "\n",
    "#defining pipeline which feeds data to tfidf first and then to Logistic Regressor\n",
    "tfidf_log_reg_pipeline =  Pipeline([('tf_idf',tfidf_vectorizer),('logit',clf)])\n",
    "\n",
    "#fitting model\n",
    "tfidf_log_reg_pipeline.fit(train_txt,train_y)"
   ]
  },
  {
   "cell_type": "code",
   "execution_count": 14,
   "metadata": {},
   "outputs": [
    {
     "name": "stdout",
     "output_type": "stream",
     "text": [
      "Wall time: 14.9 s\n"
     ]
    },
    {
     "data": {
      "text/plain": [
       "0.6595174262734584"
      ]
     },
     "execution_count": 14,
     "metadata": {},
     "output_type": "execute_result"
    }
   ],
   "source": [
    "#predicting values\n",
    "%%time\n",
    "val_predict = tfidf_log_reg_pipeline.predict(val_txt)\n",
    "#calculating accuracy\n",
    "accuracy_score(val_y,val_predict)\n",
    "#0.6568940204543758"
   ]
  },
  {
   "cell_type": "code",
   "execution_count": 15,
   "metadata": {},
   "outputs": [
    {
     "data": {
      "image/png": "[encoded data removed]",
      "text/plain": [
       "<Figure size 432x288 with 2 Axes>"
      ]
     },
     "metadata": {
      "needs_background": "light"
     },
     "output_type": "display_data"
    }
   ],
   "source": [
    "#Plotting confusion matrix for the same\n",
    "plot_conf_mat(val_y,val_predict)"
   ]
  },
  {
   "cell_type": "markdown",
   "metadata": {},
   "source": [
    "# TF-IDF & Decision tree\n"
   ]
  },
  {
   "cell_type": "code",
   "execution_count": 16,
   "metadata": {},
   "outputs": [],
   "source": [
    "# unigram and bigram vectorizer\n",
    "tfidf_vectorizer = TfidfVectorizer(ngram_range=(1,2),min_df=5,max_features=9000)\n",
    "\n",
    "#Initializing DecisionTree Classifier\n",
    "dt = tree.DecisionTreeClassifier(max_depth=256,criterion=\"entropy\",splitter=\"random\")\n",
    "\n",
    "#defining pipeline which feeds data to tfidf first and then to DecisionTreeClassifier\n",
    "tfidf_dt_reg_pipeline =  Pipeline([('tf_idf',tfidf_vectorizer),('logit',dt)])"
   ]
  },
  {
   "cell_type": "code",
   "execution_count": 17,
   "metadata": {},
   "outputs": [
    {
     "name": "stdout",
     "output_type": "stream",
     "text": [
      "Wall time: 53min 18s\n"
     ]
    },
    {
     "data": {
      "text/plain": [
       "Pipeline(steps=[('tf_idf',\n",
       "                 TfidfVectorizer(max_features=9000, min_df=5,\n",
       "                                 ngram_range=(1, 2))),\n",
       "                ('logit',\n",
       "                 DecisionTreeClassifier(criterion='entropy', max_depth=256,\n",
       "                                        splitter='random'))])"
      ]
     },
     "execution_count": 17,
     "metadata": {},
     "output_type": "execute_result"
    }
   ],
   "source": [
    "#fitting model\n",
    "%%time\n",
    "tfidf_dt_reg_pipeline.fit(train_txt,train_y)"
   ]
  },
  {
   "cell_type": "code",
   "execution_count": 18,
   "metadata": {},
   "outputs": [
    {
     "name": "stdout",
     "output_type": "stream",
     "text": [
      "Wall time: 4.97 s\n"
     ]
    },
    {
     "data": {
      "text/plain": [
       "0.5957975129349149"
      ]
     },
     "execution_count": 18,
     "metadata": {},
     "output_type": "execute_result"
    }
   ],
   "source": [
    "#predicting values\n",
    "%%time\n",
    "val_predict = tfidf_dt_reg_pipeline.predict(val_txt)\n",
    "#calculating accuracy\n",
    "accuracy_score(val_y,val_predict)\n",
    "#0.6415905641127728\n",
    "#0.5957975129349149"
   ]
  },
  {
   "cell_type": "markdown",
   "metadata": {},
   "source": [
    "# TF-IDF & Random Forest"
   ]
  },
  {
   "cell_type": "code",
   "execution_count": 19,
   "metadata": {},
   "outputs": [],
   "source": [
    "# unigram and bigram vectorizer\n",
    "tfidf_vectorizer = TfidfVectorizer(ngram_range = (1,2),min_df = 6,max_features = 12000)\n",
    "\n",
    "#Initializing RandomForest Classifier\n",
    "rf = RandomForestClassifier(max_depth = 512, n_estimators = 380, random_state = 123, n_jobs = 6, verbose = 1)\n",
    "\n",
    "#defining pipeline which feeds data to tfidf first and then to RandomForestClassifier\n",
    "tfidf_rf_reg_pipeline =  Pipeline([('tf_idf',tfidf_vectorizer),('logit',rf)])"
   ]
  },
  {
   "cell_type": "code",
   "execution_count": 20,
   "metadata": {},
   "outputs": [
    {
     "name": "stderr",
     "output_type": "stream",
     "text": [
      "[Parallel(n_jobs=6)]: Using backend ThreadingBackend with 6 concurrent workers.\n",
      "[Parallel(n_jobs=6)]: Done  38 tasks      | elapsed: 91.2min\n",
      "[Parallel(n_jobs=6)]: Done 188 tasks      | elapsed: 220.4min\n"
     ]
    },
    {
     "name": "stdout",
     "output_type": "stream",
     "text": [
      "Wall time: 6h 22min 32s\n"
     ]
    },
    {
     "name": "stderr",
     "output_type": "stream",
     "text": [
      "[Parallel(n_jobs=6)]: Done 380 out of 380 | elapsed: 381.6min finished\n"
     ]
    },
    {
     "data": {
      "text/plain": [
       "Pipeline(steps=[('tf_idf',\n",
       "                 TfidfVectorizer(max_features=12000, min_df=6,\n",
       "                                 ngram_range=(1, 2))),\n",
       "                ('logit',\n",
       "                 RandomForestClassifier(max_depth=512, n_estimators=380,\n",
       "                                        n_jobs=6, random_state=123,\n",
       "                                        verbose=1))])"
      ]
     },
     "execution_count": 20,
     "metadata": {},
     "output_type": "execute_result"
    }
   ],
   "source": [
    "#fitting model\n",
    "%%time\n",
    "tfidf_rf_reg_pipeline.fit(train_txt,train_y)"
   ]
  },
  {
   "cell_type": "code",
   "execution_count": 21,
   "metadata": {},
   "outputs": [
    {
     "name": "stderr",
     "output_type": "stream",
     "text": [
      "[Parallel(n_jobs=6)]: Using backend ThreadingBackend with 6 concurrent workers.\n",
      "[Parallel(n_jobs=6)]: Done  38 tasks      | elapsed:    2.3s\n",
      "[Parallel(n_jobs=6)]: Done 188 tasks      | elapsed:   21.5s\n"
     ]
    },
    {
     "name": "stdout",
     "output_type": "stream",
     "text": [
      "Wall time: 1min 6s\n"
     ]
    },
    {
     "name": "stderr",
     "output_type": "stream",
     "text": [
      "[Parallel(n_jobs=6)]: Done 380 out of 380 | elapsed:   49.1s finished\n"
     ]
    },
    {
     "data": {
      "text/plain": [
       "0.6475816902941147"
      ]
     },
     "execution_count": 21,
     "metadata": {},
     "output_type": "execute_result"
    }
   ],
   "source": [
    "#predicting values\n",
    "%%time\n",
    "val_predict = tfidf_rf_reg_pipeline.predict(val_txt)\n",
    "\n",
    "#Calculating accuracy\n",
    "accuracy_score(val_y,val_predict)\n",
    "#0.6475816902941147"
   ]
  },
  {
   "cell_type": "code",
   "execution_count": 22,
   "metadata": {},
   "outputs": [
    {
     "data": {
      "image/png": "[encoded data removed]",
      "text/plain": [
       "<Figure size 432x288 with 2 Axes>"
      ]
     },
     "metadata": {
      "needs_background": "light"
     },
     "output_type": "display_data"
    }
   ],
   "source": [
    "#Plotting confusion matrix for the same\n",
    "plot_conf_mat(val_y,val_predict)"
   ]
  },
  {
   "cell_type": "code",
   "execution_count": null,
   "metadata": {},
   "outputs": [],
   "source": []
  }
 ],
 "metadata": {
  "interpreter": {
   "hash": "36f0e4b0a7ea5d9009060c84ac0572df4a90298368e23ad6ca51e547eda0a6da"
  },
  "kernelspec": {
   "display_name": "Python 3 (ipykernel)",
   "language": "python",
   "name": "python3"
  },
  "language_info": {
   "codemirror_mode": {
    "name": "ipython",
    "version": 3
   },
   "file_extension": ".py",
   "mimetype": "text/x-python",
   "name": "python",
   "nbconvert_exporter": "python",
   "pygments_lexer": "ipython3",
   "version": "3.9.7"
  }
 },
 "nbformat": 4,
 "nbformat_minor": 2
}
